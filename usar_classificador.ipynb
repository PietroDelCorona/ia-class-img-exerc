{
 "cells": [
  {
   "cell_type": "code",
   "execution_count": 1,
   "metadata": {},
   "outputs": [],
   "source": [
    "import os\n",
    "import tensorflow as tf\n",
    "from tensorflow.keras.preprocessing import image\n",
    "import numpy as np"
   ]
  },
  {
   "cell_type": "code",
   "execution_count": 2,
   "metadata": {},
   "outputs": [
    {
     "name": "stdout",
     "output_type": "stream",
     "text": [
      "1/1 [==============================] - 2s 2s/step\n"
     ]
    }
   ],
   "source": [
    "model = tf.keras.models.load_model('treinamento_trab.keras')\n",
    "\n",
    "new_image_path = './test_resize/001_teste_carro_1.jpg'\n",
    "\n",
    "img = image.load_img(new_image_path, target_size = (150, 150))\n",
    "img = image.img_to_array(img)\n",
    "img = np.expand_dims(img, axis = 0)\n",
    "img = img / 255.0\n",
    "\n",
    "prediction = model.predict(img)"
   ]
  },
  {
   "cell_type": "code",
   "execution_count": 3,
   "metadata": {},
   "outputs": [
    {
     "name": "stdout",
     "output_type": "stream",
     "text": [
      "99.98\n",
      "Classe 1, um carro\n"
     ]
    },
    {
     "name": "stderr",
     "output_type": "stream",
     "text": [
      "C:\\Users\\pgdel\\AppData\\Local\\Temp\\ipykernel_15624\\1794679999.py:1: DeprecationWarning: Conversion of an array with ndim > 0 to a scalar is deprecated, and will error in future. Ensure you extract a single element from your array before performing this operation. (Deprecated NumPy 1.25.)\n",
      "  print(f'%.2f' % (prediction * 100))\n"
     ]
    }
   ],
   "source": [
    "print(f'%.2f' % (prediction * 100))\n",
    "\n",
    "if prediction < 0.5:\n",
    "    print(\"Classe 0, um ônibus\")\n",
    "else:\n",
    "    print(\"Classe 1, um carro\")"
   ]
  },
  {
   "cell_type": "code",
   "execution_count": 8,
   "metadata": {},
   "outputs": [
    {
     "name": "stdout",
     "output_type": "stream",
     "text": [
      "001_teste_carro_1.jpg\n",
      "1/1 [==============================] - 1s 533ms/step\n",
      "Classe 1, um carro\n",
      "1.00\n",
      "\n",
      "001_teste_carro_2.jpg\n",
      "1/1 [==============================] - ETA: 0s"
     ]
    },
    {
     "name": "stderr",
     "output_type": "stream",
     "text": [
      "C:\\Users\\pgdel\\AppData\\Local\\Temp\\ipykernel_15624\\3008880771.py:20: DeprecationWarning: Conversion of an array with ndim > 0 to a scalar is deprecated, and will error in future. Ensure you extract a single element from your array before performing this operation. (Deprecated NumPy 1.25.)\n",
      "  print(f'%.2f\\n' % (prediction))\n"
     ]
    },
    {
     "name": "stdout",
     "output_type": "stream",
     "text": [
      "1/1 [==============================] - 0s 55ms/step\n",
      "Classe 1, um carro\n",
      "0.83\n",
      "\n",
      "001_teste_carro_3.jpg\n",
      "1/1 [==============================] - 0s 56ms/step\n",
      "Classe 1, um carro\n",
      "1.00\n",
      "\n",
      "001_teste_onibus_1.jpg\n",
      "1/1 [==============================] - 0s 51ms/step\n",
      "Classe 0, um ônibus\n",
      "0.21\n",
      "\n",
      "001_teste_onibus_2.jpg\n",
      "1/1 [==============================] - 0s 46ms/step\n",
      "Classe 0, um ônibus\n",
      "0.00\n",
      "\n",
      "001_teste_onibus_3.jpg\n",
      "1/1 [==============================] - 0s 48ms/step\n",
      "Classe 0, um ônibus\n",
      "0.00\n",
      "\n"
     ]
    }
   ],
   "source": [
    "test_directory = './test_resize'\n",
    "\n",
    "for filename in os.listdir(test_directory):\n",
    "    if filename.endswith(\".jpg\") or filename.endswith(\".jpeg\"):\n",
    "        print(filename)\n",
    "        \n",
    "        image_path = os.path.join(test_directory, filename)\n",
    "        \n",
    "        img = image.load_img(image_path, target_size = (150, 150))\n",
    "        img = image.img_to_array(img)\n",
    "        img = np.expand_dims(img, axis = 0)\n",
    "        img = img / 255.0\n",
    "        \n",
    "        prediction = model.predict(img)\n",
    "        \n",
    "        if prediction < 0.5:\n",
    "            print(\"Classe 0, um ônibus\")\n",
    "        else:\n",
    "            print(\"Classe 1, um carro\")\n",
    "        print(f'%.2f\\n' % (prediction))"
   ]
  }
 ],
 "metadata": {
  "kernelspec": {
   "display_name": ".venv",
   "language": "python",
   "name": "python3"
  },
  "language_info": {
   "codemirror_mode": {
    "name": "ipython",
    "version": 3
   },
   "file_extension": ".py",
   "mimetype": "text/x-python",
   "name": "python",
   "nbconvert_exporter": "python",
   "pygments_lexer": "ipython3",
   "version": "3.10.4"
  }
 },
 "nbformat": 4,
 "nbformat_minor": 2
}
