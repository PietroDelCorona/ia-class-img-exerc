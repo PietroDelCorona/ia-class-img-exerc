{
 "cells": [
  {
   "cell_type": "code",
   "execution_count": 1,
   "metadata": {},
   "outputs": [],
   "source": [
    "import tensorflow as tf\n",
    "import scipy, numpy\n",
    "\n",
    "from tensorflow.keras.preprocessing.image import ImageDataGenerator\n",
    "from tensorflow.keras.models import Sequential \n",
    "from tensorflow.keras.layers import Conv2D, MaxPooling2D, Flatten, Dense, Dropout"
   ]
  },
  {
   "cell_type": "code",
   "execution_count": 2,
   "metadata": {},
   "outputs": [],
   "source": [
    "train_data_dir = './data_resize'\n",
    "batch_size = 32\n",
    "num_epochs = 50\n",
    "image_size = (150, 150)\n",
    "num_classes = 2\n"
   ]
  },
  {
   "cell_type": "code",
   "execution_count": 3,
   "metadata": {},
   "outputs": [],
   "source": [
    "train_datagen = ImageDataGenerator(\n",
    "    rescale = 1.0/255,\n",
    "    validation_split = 0.25,\n",
    "    shear_range = 0.2,\n",
    "    zoom_range = 0.2,\n",
    "    horizontal_flip = True\n",
    ")"
   ]
  },
  {
   "cell_type": "code",
   "execution_count": 4,
   "metadata": {},
   "outputs": [
    {
     "name": "stdout",
     "output_type": "stream",
     "text": [
      "Found 38 images belonging to 2 classes.\n"
     ]
    }
   ],
   "source": [
    "train_generator = train_datagen.flow_from_directory(\n",
    "    train_data_dir,\n",
    "    target_size = image_size,\n",
    "    batch_size = batch_size,\n",
    "    class_mode = 'binary',\n",
    "    subset = 'training'\n",
    ")"
   ]
  },
  {
   "cell_type": "code",
   "execution_count": 5,
   "metadata": {},
   "outputs": [
    {
     "name": "stdout",
     "output_type": "stream",
     "text": [
      "Found 12 images belonging to 2 classes.\n"
     ]
    }
   ],
   "source": [
    "validation_generator = train_datagen.flow_from_directory(\n",
    "    train_data_dir,\n",
    "    target_size = image_size,\n",
    "    batch_size = batch_size,\n",
    "    class_mode = 'binary',\n",
    "    subset = 'validation'\n",
    ")"
   ]
  },
  {
   "cell_type": "code",
   "execution_count": 6,
   "metadata": {},
   "outputs": [],
   "source": [
    "model = Sequential()\n",
    "model.add(Conv2D(32, (3,3), input_shape=(image_size[0], image_size[1], 3), activation = 'relu'))\n",
    "model.add(MaxPooling2D(pool_size = (2,2)))\n",
    "model.add(Conv2D(64, (3,3), activation = 'relu'))\n",
    "model.add(MaxPooling2D(pool_size = (2,2)))\n",
    "model.add(Flatten())\n",
    "model.add(Dense(64, activation = 'relu'))\n",
    "model.add(Dropout(0.5))\n",
    "model.add(Dense(1, activation = 'sigmoid'))"
   ]
  },
  {
   "cell_type": "code",
   "execution_count": 7,
   "metadata": {},
   "outputs": [],
   "source": [
    "model.compile(\n",
    "    optimizer = 'adam',\n",
    "    loss = 'binary_crossentropy',\n",
    "    metrics = ['accuracy']\n",
    ")"
   ]
  },
  {
   "cell_type": "code",
   "execution_count": 8,
   "metadata": {},
   "outputs": [
    {
     "name": "stdout",
     "output_type": "stream",
     "text": [
      "Epoch 1/50\n",
      "2/2 [==============================] - 7s 2s/step - loss: 2.0075 - accuracy: 0.5000 - val_loss: 1.0182 - val_accuracy: 0.5000\n",
      "Epoch 2/50\n",
      "2/2 [==============================] - 2s 667ms/step - loss: 0.8843 - accuracy: 0.5789 - val_loss: 0.6123 - val_accuracy: 0.9167\n",
      "Epoch 3/50\n",
      "2/2 [==============================] - 2s 1s/step - loss: 0.6659 - accuracy: 0.6316 - val_loss: 0.6061 - val_accuracy: 0.8333\n",
      "Epoch 4/50\n",
      "2/2 [==============================] - 2s 1s/step - loss: 0.6707 - accuracy: 0.5526 - val_loss: 0.6692 - val_accuracy: 0.5000\n",
      "Epoch 5/50\n",
      "2/2 [==============================] - 2s 1s/step - loss: 0.7279 - accuracy: 0.5789 - val_loss: 0.7296 - val_accuracy: 0.5000\n",
      "Epoch 6/50\n",
      "2/2 [==============================] - 2s 539ms/step - loss: 0.7948 - accuracy: 0.5789 - val_loss: 0.6158 - val_accuracy: 0.6667\n",
      "Epoch 7/50\n",
      "2/2 [==============================] - 2s 1s/step - loss: 0.5829 - accuracy: 0.7368 - val_loss: 0.6211 - val_accuracy: 0.7500\n",
      "Epoch 8/50\n",
      "2/2 [==============================] - 2s 489ms/step - loss: 0.5802 - accuracy: 0.8421 - val_loss: 0.6106 - val_accuracy: 0.6667\n",
      "Epoch 9/50\n",
      "2/2 [==============================] - 2s 503ms/step - loss: 0.5195 - accuracy: 0.8158 - val_loss: 0.5373 - val_accuracy: 0.8333\n",
      "Epoch 10/50\n",
      "2/2 [==============================] - 2s 475ms/step - loss: 0.5399 - accuracy: 0.8158 - val_loss: 0.5777 - val_accuracy: 0.7500\n",
      "Epoch 11/50\n",
      "2/2 [==============================] - 2s 1s/step - loss: 0.5101 - accuracy: 0.7105 - val_loss: 0.4700 - val_accuracy: 0.7500\n",
      "Epoch 12/50\n",
      "2/2 [==============================] - 2s 1s/step - loss: 0.4032 - accuracy: 0.8947 - val_loss: 0.4948 - val_accuracy: 0.6667\n",
      "Epoch 13/50\n",
      "2/2 [==============================] - 2s 1s/step - loss: 0.3729 - accuracy: 0.8421 - val_loss: 0.4590 - val_accuracy: 0.7500\n",
      "Epoch 14/50\n",
      "2/2 [==============================] - 2s 1s/step - loss: 0.3254 - accuracy: 0.9211 - val_loss: 0.4300 - val_accuracy: 0.8333\n",
      "Epoch 15/50\n",
      "2/2 [==============================] - 2s 1s/step - loss: 0.3320 - accuracy: 0.8947 - val_loss: 0.4402 - val_accuracy: 0.7500\n",
      "Epoch 16/50\n",
      "2/2 [==============================] - 2s 1s/step - loss: 0.3518 - accuracy: 0.7895 - val_loss: 0.3969 - val_accuracy: 0.6667\n",
      "Epoch 17/50\n",
      "2/2 [==============================] - 2s 497ms/step - loss: 0.3048 - accuracy: 0.8947 - val_loss: 0.2547 - val_accuracy: 1.0000\n",
      "Epoch 18/50\n",
      "2/2 [==============================] - 2s 503ms/step - loss: 0.1806 - accuracy: 0.9211 - val_loss: 0.2880 - val_accuracy: 0.8333\n",
      "Epoch 19/50\n",
      "2/2 [==============================] - 2s 1s/step - loss: 0.1585 - accuracy: 0.9211 - val_loss: 0.3806 - val_accuracy: 0.8333\n",
      "Epoch 20/50\n",
      "2/2 [==============================] - 2s 1s/step - loss: 0.2468 - accuracy: 0.8421 - val_loss: 0.3341 - val_accuracy: 0.8333\n",
      "Epoch 21/50\n",
      "2/2 [==============================] - 2s 479ms/step - loss: 0.1309 - accuracy: 0.9474 - val_loss: 0.2076 - val_accuracy: 0.9167\n",
      "Epoch 22/50\n",
      "2/2 [==============================] - 2s 481ms/step - loss: 0.1602 - accuracy: 0.9211 - val_loss: 0.4100 - val_accuracy: 0.6667\n",
      "Epoch 23/50\n",
      "2/2 [==============================] - 2s 485ms/step - loss: 0.2130 - accuracy: 0.8684 - val_loss: 0.3072 - val_accuracy: 0.8333\n",
      "Epoch 24/50\n",
      "2/2 [==============================] - 2s 1s/step - loss: 0.2232 - accuracy: 0.9211 - val_loss: 0.5585 - val_accuracy: 0.6667\n",
      "Epoch 25/50\n",
      "2/2 [==============================] - 2s 1s/step - loss: 0.1521 - accuracy: 0.9474 - val_loss: 0.3045 - val_accuracy: 0.9167\n",
      "Epoch 26/50\n",
      "2/2 [==============================] - 2s 1s/step - loss: 0.1543 - accuracy: 0.9474 - val_loss: 0.2320 - val_accuracy: 0.8333\n",
      "Epoch 27/50\n",
      "2/2 [==============================] - 2s 509ms/step - loss: 0.1902 - accuracy: 0.9211 - val_loss: 0.2646 - val_accuracy: 0.8333\n",
      "Epoch 28/50\n",
      "2/2 [==============================] - 2s 506ms/step - loss: 0.1215 - accuracy: 0.9737 - val_loss: 0.2874 - val_accuracy: 0.8333\n",
      "Epoch 29/50\n",
      "2/2 [==============================] - 2s 1s/step - loss: 0.1748 - accuracy: 0.9737 - val_loss: 0.2379 - val_accuracy: 0.9167\n",
      "Epoch 30/50\n",
      "2/2 [==============================] - 2s 1s/step - loss: 0.1733 - accuracy: 0.9211 - val_loss: 0.3126 - val_accuracy: 0.8333\n",
      "Epoch 31/50\n",
      "2/2 [==============================] - 2s 574ms/step - loss: 0.2586 - accuracy: 0.9211 - val_loss: 0.3303 - val_accuracy: 0.8333\n",
      "Epoch 32/50\n",
      "2/2 [==============================] - 2s 489ms/step - loss: 0.1144 - accuracy: 0.9737 - val_loss: 0.3148 - val_accuracy: 0.9167\n",
      "Epoch 33/50\n",
      "2/2 [==============================] - 2s 1s/step - loss: 0.1507 - accuracy: 1.0000 - val_loss: 0.2796 - val_accuracy: 0.8333\n",
      "Epoch 34/50\n",
      "2/2 [==============================] - 2s 1s/step - loss: 0.1140 - accuracy: 1.0000 - val_loss: 0.2672 - val_accuracy: 0.9167\n",
      "Epoch 35/50\n",
      "2/2 [==============================] - 2s 1s/step - loss: 0.1601 - accuracy: 0.9211 - val_loss: 0.2778 - val_accuracy: 0.9167\n",
      "Epoch 36/50\n",
      "2/2 [==============================] - 2s 523ms/step - loss: 0.1347 - accuracy: 0.9211 - val_loss: 0.1816 - val_accuracy: 0.9167\n",
      "Epoch 37/50\n",
      "2/2 [==============================] - 2s 704ms/step - loss: 0.0788 - accuracy: 0.9737 - val_loss: 0.2545 - val_accuracy: 0.8333\n",
      "Epoch 38/50\n",
      "2/2 [==============================] - 2s 553ms/step - loss: 0.0866 - accuracy: 0.9737 - val_loss: 0.1191 - val_accuracy: 1.0000\n",
      "Epoch 39/50\n",
      "2/2 [==============================] - 2s 570ms/step - loss: 0.0228 - accuracy: 1.0000 - val_loss: 0.3175 - val_accuracy: 0.9167\n",
      "Epoch 40/50\n",
      "2/2 [==============================] - 2s 1s/step - loss: 0.0961 - accuracy: 0.9737 - val_loss: 0.1913 - val_accuracy: 0.9167\n",
      "Epoch 41/50\n",
      "2/2 [==============================] - 2s 1s/step - loss: 0.0663 - accuracy: 1.0000 - val_loss: 0.0757 - val_accuracy: 1.0000\n",
      "Epoch 42/50\n",
      "2/2 [==============================] - 2s 502ms/step - loss: 0.0526 - accuracy: 0.9737 - val_loss: 0.1552 - val_accuracy: 0.8333\n",
      "Epoch 43/50\n",
      "2/2 [==============================] - 2s 573ms/step - loss: 0.0386 - accuracy: 1.0000 - val_loss: 0.1356 - val_accuracy: 0.8333\n",
      "Epoch 44/50\n",
      "2/2 [==============================] - 2s 1s/step - loss: 0.0160 - accuracy: 1.0000 - val_loss: 0.1925 - val_accuracy: 0.9167\n",
      "Epoch 45/50\n",
      "2/2 [==============================] - 2s 1s/step - loss: 0.0429 - accuracy: 0.9737 - val_loss: 0.2233 - val_accuracy: 0.8333\n",
      "Epoch 46/50\n",
      "2/2 [==============================] - 2s 1s/step - loss: 0.0116 - accuracy: 1.0000 - val_loss: 0.1888 - val_accuracy: 0.9167\n",
      "Epoch 47/50\n",
      "2/2 [==============================] - 2s 1s/step - loss: 0.0366 - accuracy: 1.0000 - val_loss: 0.3528 - val_accuracy: 0.8333\n",
      "Epoch 48/50\n",
      "2/2 [==============================] - 2s 1s/step - loss: 0.0514 - accuracy: 0.9737 - val_loss: 0.2217 - val_accuracy: 0.8333\n",
      "Epoch 49/50\n",
      "2/2 [==============================] - 2s 1s/step - loss: 0.0179 - accuracy: 1.0000 - val_loss: 0.1681 - val_accuracy: 0.9167\n",
      "Epoch 50/50\n",
      "2/2 [==============================] - 2s 1s/step - loss: 0.0130 - accuracy: 1.0000 - val_loss: 0.1984 - val_accuracy: 0.9167\n",
      "Treinamento concluído\n"
     ]
    }
   ],
   "source": [
    "model.fit(\n",
    "    train_generator,\n",
    "    epochs = num_epochs,\n",
    "    validation_data = validation_generator\n",
    ")\n",
    "\n",
    "print(\"Treinamento concluído\")\n",
    "\n",
    "model.save('cfModeloPietroDelCorona.keras')"
   ]
  }
 ],
 "metadata": {
  "kernelspec": {
   "display_name": ".venv",
   "language": "python",
   "name": "python3"
  },
  "language_info": {
   "codemirror_mode": {
    "name": "ipython",
    "version": 3
   },
   "file_extension": ".py",
   "mimetype": "text/x-python",
   "name": "python",
   "nbconvert_exporter": "python",
   "pygments_lexer": "ipython3",
   "version": "3.10.4"
  }
 },
 "nbformat": 4,
 "nbformat_minor": 2
}
